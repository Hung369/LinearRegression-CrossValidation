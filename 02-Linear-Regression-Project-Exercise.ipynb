{
 "cells": [
  {
   "cell_type": "markdown",
   "metadata": {},
   "source": [
    "___\n",
    "\n",
    "<a href='http://www.pieriandata.com'><img src='../Pierian_Data_Logo.png'/></a>\n",
    "___\n",
    "<center><em>Copyright by Pierian Data Inc.</em></center>\n",
    "<center><em>For more information, visit us at <a href='http://www.pieriandata.com'>www.pieriandata.com</a></em></center>"
   ]
  },
  {
   "cell_type": "markdown",
   "metadata": {},
   "source": [
    "# Linear Regression Project Exercise "
   ]
  },
  {
   "cell_type": "markdown",
   "metadata": {},
   "source": [
    "Now that we have learned about feature engineering, cross validation, and grid search, let's test all your new skills with a project exercise in Machine Learning. This exercise will have a more guided approach, later on the ML projects will begin to be more open-ended. We'll start off with using the final version of the Ames Housing dataset we worked on through the feature engineering section of the course. Your goal will be to create a Linear Regression Model, train it on the data with the optimal parameters using a grid search, and then evaluate the model's capabilities on a test set."
   ]
  },
  {
   "cell_type": "markdown",
   "metadata": {},
   "source": [
    "---\n",
    "---\n",
    "---\n",
    "## Complete the tasks in bold\n",
    "\n",
    "**TASK: Run the cells under the Imports and Data section to make sure you have imported the correct general libraries as well as the correct datasets. Later on you may need to run further imports from scikit-learn.**\n",
    "\n",
    "### Imports"
   ]
  },
  {
   "cell_type": "code",
   "execution_count": 1,
   "metadata": {},
   "outputs": [],
   "source": [
    "import numpy as np\n",
    "import pandas as pd\n",
    "import matplotlib.pyplot as plt\n",
    "import seaborn as sns"
   ]
  },
  {
   "cell_type": "markdown",
   "metadata": {},
   "source": [
    "### Data"
   ]
  },
  {
   "cell_type": "code",
   "execution_count": 2,
   "metadata": {},
   "outputs": [],
   "source": [
    "df = pd.read_csv(\"AMES_Final_DF.csv\")"
   ]
  },
  {
   "cell_type": "code",
   "execution_count": 3,
   "metadata": {},
   "outputs": [
    {
     "data": {
      "text/html": [
       "<div>\n",
       "<style scoped>\n",
       "    .dataframe tbody tr th:only-of-type {\n",
       "        vertical-align: middle;\n",
       "    }\n",
       "\n",
       "    .dataframe tbody tr th {\n",
       "        vertical-align: top;\n",
       "    }\n",
       "\n",
       "    .dataframe thead th {\n",
       "        text-align: right;\n",
       "    }\n",
       "</style>\n",
       "<table border=\"1\" class=\"dataframe\">\n",
       "  <thead>\n",
       "    <tr style=\"text-align: right;\">\n",
       "      <th></th>\n",
       "      <th>Lot Frontage</th>\n",
       "      <th>Lot Area</th>\n",
       "      <th>Overall Qual</th>\n",
       "      <th>Overall Cond</th>\n",
       "      <th>Year Built</th>\n",
       "      <th>Year Remod/Add</th>\n",
       "      <th>Mas Vnr Area</th>\n",
       "      <th>BsmtFin SF 1</th>\n",
       "      <th>BsmtFin SF 2</th>\n",
       "      <th>Bsmt Unf SF</th>\n",
       "      <th>...</th>\n",
       "      <th>Sale Type_ConLw</th>\n",
       "      <th>Sale Type_New</th>\n",
       "      <th>Sale Type_Oth</th>\n",
       "      <th>Sale Type_VWD</th>\n",
       "      <th>Sale Type_WD</th>\n",
       "      <th>Sale Condition_AdjLand</th>\n",
       "      <th>Sale Condition_Alloca</th>\n",
       "      <th>Sale Condition_Family</th>\n",
       "      <th>Sale Condition_Normal</th>\n",
       "      <th>Sale Condition_Partial</th>\n",
       "    </tr>\n",
       "  </thead>\n",
       "  <tbody>\n",
       "    <tr>\n",
       "      <th>0</th>\n",
       "      <td>141.0</td>\n",
       "      <td>31770</td>\n",
       "      <td>6</td>\n",
       "      <td>5</td>\n",
       "      <td>1960</td>\n",
       "      <td>1960</td>\n",
       "      <td>112</td>\n",
       "      <td>639</td>\n",
       "      <td>0</td>\n",
       "      <td>441</td>\n",
       "      <td>...</td>\n",
       "      <td>0</td>\n",
       "      <td>0</td>\n",
       "      <td>0</td>\n",
       "      <td>0</td>\n",
       "      <td>1</td>\n",
       "      <td>0</td>\n",
       "      <td>0</td>\n",
       "      <td>0</td>\n",
       "      <td>1</td>\n",
       "      <td>0</td>\n",
       "    </tr>\n",
       "    <tr>\n",
       "      <th>1</th>\n",
       "      <td>80.0</td>\n",
       "      <td>11622</td>\n",
       "      <td>5</td>\n",
       "      <td>6</td>\n",
       "      <td>1961</td>\n",
       "      <td>1961</td>\n",
       "      <td>0</td>\n",
       "      <td>468</td>\n",
       "      <td>144</td>\n",
       "      <td>270</td>\n",
       "      <td>...</td>\n",
       "      <td>0</td>\n",
       "      <td>0</td>\n",
       "      <td>0</td>\n",
       "      <td>0</td>\n",
       "      <td>1</td>\n",
       "      <td>0</td>\n",
       "      <td>0</td>\n",
       "      <td>0</td>\n",
       "      <td>1</td>\n",
       "      <td>0</td>\n",
       "    </tr>\n",
       "    <tr>\n",
       "      <th>2</th>\n",
       "      <td>81.0</td>\n",
       "      <td>14267</td>\n",
       "      <td>6</td>\n",
       "      <td>6</td>\n",
       "      <td>1958</td>\n",
       "      <td>1958</td>\n",
       "      <td>108</td>\n",
       "      <td>923</td>\n",
       "      <td>0</td>\n",
       "      <td>406</td>\n",
       "      <td>...</td>\n",
       "      <td>0</td>\n",
       "      <td>0</td>\n",
       "      <td>0</td>\n",
       "      <td>0</td>\n",
       "      <td>1</td>\n",
       "      <td>0</td>\n",
       "      <td>0</td>\n",
       "      <td>0</td>\n",
       "      <td>1</td>\n",
       "      <td>0</td>\n",
       "    </tr>\n",
       "    <tr>\n",
       "      <th>3</th>\n",
       "      <td>93.0</td>\n",
       "      <td>11160</td>\n",
       "      <td>7</td>\n",
       "      <td>5</td>\n",
       "      <td>1968</td>\n",
       "      <td>1968</td>\n",
       "      <td>0</td>\n",
       "      <td>1065</td>\n",
       "      <td>0</td>\n",
       "      <td>1045</td>\n",
       "      <td>...</td>\n",
       "      <td>0</td>\n",
       "      <td>0</td>\n",
       "      <td>0</td>\n",
       "      <td>0</td>\n",
       "      <td>1</td>\n",
       "      <td>0</td>\n",
       "      <td>0</td>\n",
       "      <td>0</td>\n",
       "      <td>1</td>\n",
       "      <td>0</td>\n",
       "    </tr>\n",
       "    <tr>\n",
       "      <th>4</th>\n",
       "      <td>74.0</td>\n",
       "      <td>13830</td>\n",
       "      <td>5</td>\n",
       "      <td>5</td>\n",
       "      <td>1997</td>\n",
       "      <td>1998</td>\n",
       "      <td>0</td>\n",
       "      <td>791</td>\n",
       "      <td>0</td>\n",
       "      <td>137</td>\n",
       "      <td>...</td>\n",
       "      <td>0</td>\n",
       "      <td>0</td>\n",
       "      <td>0</td>\n",
       "      <td>0</td>\n",
       "      <td>1</td>\n",
       "      <td>0</td>\n",
       "      <td>0</td>\n",
       "      <td>0</td>\n",
       "      <td>1</td>\n",
       "      <td>0</td>\n",
       "    </tr>\n",
       "  </tbody>\n",
       "</table>\n",
       "<p>5 rows × 274 columns</p>\n",
       "</div>"
      ],
      "text/plain": [
       "   Lot Frontage  Lot Area  Overall Qual  Overall Cond  Year Built  \\\n",
       "0         141.0     31770             6             5        1960   \n",
       "1          80.0     11622             5             6        1961   \n",
       "2          81.0     14267             6             6        1958   \n",
       "3          93.0     11160             7             5        1968   \n",
       "4          74.0     13830             5             5        1997   \n",
       "\n",
       "   Year Remod/Add  Mas Vnr Area  BsmtFin SF 1  BsmtFin SF 2  Bsmt Unf SF  ...  \\\n",
       "0            1960           112           639             0          441  ...   \n",
       "1            1961             0           468           144          270  ...   \n",
       "2            1958           108           923             0          406  ...   \n",
       "3            1968             0          1065             0         1045  ...   \n",
       "4            1998             0           791             0          137  ...   \n",
       "\n",
       "   Sale Type_ConLw  Sale Type_New  Sale Type_Oth  Sale Type_VWD  \\\n",
       "0                0              0              0              0   \n",
       "1                0              0              0              0   \n",
       "2                0              0              0              0   \n",
       "3                0              0              0              0   \n",
       "4                0              0              0              0   \n",
       "\n",
       "   Sale Type_WD   Sale Condition_AdjLand  Sale Condition_Alloca  \\\n",
       "0              1                       0                      0   \n",
       "1              1                       0                      0   \n",
       "2              1                       0                      0   \n",
       "3              1                       0                      0   \n",
       "4              1                       0                      0   \n",
       "\n",
       "   Sale Condition_Family  Sale Condition_Normal  Sale Condition_Partial  \n",
       "0                      0                      1                       0  \n",
       "1                      0                      1                       0  \n",
       "2                      0                      1                       0  \n",
       "3                      0                      1                       0  \n",
       "4                      0                      1                       0  \n",
       "\n",
       "[5 rows x 274 columns]"
      ]
     },
     "execution_count": 3,
     "metadata": {},
     "output_type": "execute_result"
    }
   ],
   "source": [
    "df.head()"
   ]
  },
  {
   "cell_type": "code",
   "execution_count": 4,
   "metadata": {},
   "outputs": [
    {
     "name": "stdout",
     "output_type": "stream",
     "text": [
      "<class 'pandas.core.frame.DataFrame'>\n",
      "RangeIndex: 2925 entries, 0 to 2924\n",
      "Columns: 274 entries, Lot Frontage to Sale Condition_Partial\n",
      "dtypes: float64(1), int64(273)\n",
      "memory usage: 6.1 MB\n"
     ]
    }
   ],
   "source": [
    "df.info()"
   ]
  },
  {
   "cell_type": "markdown",
   "metadata": {},
   "source": [
    "**TASK: The label we are trying to predict is the SalePrice column. Separate out the data into X features and y labels**"
   ]
  },
  {
   "cell_type": "code",
   "execution_count": 5,
   "metadata": {},
   "outputs": [],
   "source": [
    "# YOUR CODE HERE\n",
    "X = df.drop('SalePrice', axis = 1)\n",
    "y = df['SalePrice']"
   ]
  },
  {
   "cell_type": "markdown",
   "metadata": {},
   "source": [
    "**TASK: Use scikit-learn to split up X and y into a training set and test set. Since we will later be using a Grid Search strategy, set your test proportion to 10%. To get the same data split as the solutions notebook, you can specify random_state = 101**"
   ]
  },
  {
   "cell_type": "code",
   "execution_count": 6,
   "metadata": {},
   "outputs": [],
   "source": [
    "# YOUR CODE HERE\n",
    "from sklearn.model_selection import train_test_split"
   ]
  },
  {
   "cell_type": "code",
   "execution_count": 7,
   "metadata": {},
   "outputs": [],
   "source": [
    "X_train, X_test, y_train, y_test = train_test_split(X, y, test_size = 0.1, random_state = 101)"
   ]
  },
  {
   "cell_type": "markdown",
   "metadata": {},
   "source": [
    "**TASK: The dataset features has a variety of scales and units. For optimal regression performance, scale the X features. Take carefuly note of what to use for .fit() vs what to use for .transform()**"
   ]
  },
  {
   "cell_type": "code",
   "execution_count": 8,
   "metadata": {},
   "outputs": [],
   "source": [
    "# YOUR CODE HERE\n",
    "from sklearn.preprocessing import StandardScaler\n",
    "scaler = StandardScaler()"
   ]
  },
  {
   "cell_type": "code",
   "execution_count": 9,
   "metadata": {},
   "outputs": [
    {
     "data": {
      "text/plain": [
       "StandardScaler()"
      ]
     },
     "execution_count": 9,
     "metadata": {},
     "output_type": "execute_result"
    }
   ],
   "source": [
    "scaler.fit(X_train)"
   ]
  },
  {
   "cell_type": "code",
   "execution_count": 10,
   "metadata": {},
   "outputs": [],
   "source": [
    "X_train = scaler.transform(X_train)\n",
    "X_test = scaler.transform(X_test)"
   ]
  },
  {
   "cell_type": "markdown",
   "metadata": {},
   "source": [
    "**TASK: We will use an Elastic Net model. Create an instance of default ElasticNet model with scikit-learn**"
   ]
  },
  {
   "cell_type": "code",
   "execution_count": 11,
   "metadata": {},
   "outputs": [],
   "source": [
    "# YOUR CODE HERE\n",
    "from sklearn.linear_model import ElasticNet"
   ]
  },
  {
   "cell_type": "code",
   "execution_count": 12,
   "metadata": {},
   "outputs": [],
   "source": [
    "my_model = ElasticNet()"
   ]
  },
  {
   "cell_type": "markdown",
   "metadata": {},
   "source": [
    "**TASK:  The Elastic Net model has two main parameters, alpha and the L1 ratio. Create a dictionary parameter grid of values for the ElasticNet. Feel free to play around with these values, keep in mind, you may not match up exactly with the solution choices**"
   ]
  },
  {
   "cell_type": "code",
   "execution_count": 13,
   "metadata": {},
   "outputs": [],
   "source": [
    "# YOUR CODE HERE\n",
    "param_grid = {'alpha':[0.1,1,5,10,50,100], 'l1_ratio':[.1, .5, .7, .9, .95, .99, 1]}"
   ]
  },
  {
   "cell_type": "markdown",
   "metadata": {},
   "source": [
    "**TASK: Using scikit-learn create a GridSearchCV object and run a grid search for the best parameters for your model based on your scaled training data. [In case you are curious about the warnings you may recieve for certain parameter combinations](https://stackoverflow.com/questions/20681864/lasso-on-sklearn-does-not-converge)**"
   ]
  },
  {
   "cell_type": "code",
   "execution_count": 14,
   "metadata": {},
   "outputs": [],
   "source": [
    "# YOUR CODE HERE\n",
    "from sklearn.model_selection import GridSearchCV"
   ]
  },
  {
   "cell_type": "code",
   "execution_count": 15,
   "metadata": {},
   "outputs": [],
   "source": [
    "grid = GridSearchCV(estimator = my_model, param_grid = param_grid,\n",
    "                    scoring = 'neg_mean_squared_error', cv = 5, verbose = 3)"
   ]
  },
  {
   "cell_type": "code",
   "execution_count": 16,
   "metadata": {},
   "outputs": [
    {
     "name": "stdout",
     "output_type": "stream",
     "text": [
      "Fitting 5 folds for each of 42 candidates, totalling 210 fits\n",
      "[CV 1/5] END ..alpha=0.1, l1_ratio=0.1;, score=-695393041.540 total time=   0.0s\n",
      "[CV 2/5] END ..alpha=0.1, l1_ratio=0.1;, score=-629642289.089 total time=   0.0s\n",
      "[CV 3/5] END ..alpha=0.1, l1_ratio=0.1;, score=-382086108.799 total time=   0.0s\n",
      "[CV 4/5] END ..alpha=0.1, l1_ratio=0.1;, score=-410903156.308 total time=   0.0s\n",
      "[CV 5/5] END ..alpha=0.1, l1_ratio=0.1;, score=-593119366.441 total time=   0.0s\n",
      "[CV 1/5] END ..alpha=0.1, l1_ratio=0.5;, score=-682249723.672 total time=   0.0s\n",
      "[CV 2/5] END ..alpha=0.1, l1_ratio=0.5;, score=-606455503.807 total time=   0.0s\n",
      "[CV 3/5] END ..alpha=0.1, l1_ratio=0.5;, score=-380799127.428 total time=   0.0s\n",
      "[CV 4/5] END ..alpha=0.1, l1_ratio=0.5;, score=-407180637.085 total time=   0.0s\n",
      "[CV 5/5] END ..alpha=0.1, l1_ratio=0.5;, score=-588058689.691 total time=   0.0s\n",
      "[CV 1/5] END ..alpha=0.1, l1_ratio=0.7;, score=-674616989.451 total time=   0.1s\n",
      "[CV 2/5] END ..alpha=0.1, l1_ratio=0.7;, score=-595342446.978 total time=   0.1s\n",
      "[CV 3/5] END ..alpha=0.1, l1_ratio=0.7;, score=-380741672.747 total time=   0.1s\n",
      "[CV 4/5] END ..alpha=0.1, l1_ratio=0.7;, score=-406517669.220 total time=   0.1s\n",
      "[CV 5/5] END ..alpha=0.1, l1_ratio=0.7;, score=-586968645.808 total time=   0.1s\n"
     ]
    },
    {
     "name": "stderr",
     "output_type": "stream",
     "text": [
      "C:\\Users\\nguye\\anaconda3\\lib\\site-packages\\sklearn\\linear_model\\_coordinate_descent.py:647: ConvergenceWarning: Objective did not converge. You might want to increase the number of iterations, check the scale of the features or consider increasing regularisation. Duality gap: 1.394e+11, tolerance: 1.355e+09\n",
      "  model = cd_fast.enet_coordinate_descent(\n"
     ]
    },
    {
     "name": "stdout",
     "output_type": "stream",
     "text": [
      "[CV 1/5] END ..alpha=0.1, l1_ratio=0.9;, score=-667242665.130 total time=   0.3s\n"
     ]
    },
    {
     "name": "stderr",
     "output_type": "stream",
     "text": [
      "C:\\Users\\nguye\\anaconda3\\lib\\site-packages\\sklearn\\linear_model\\_coordinate_descent.py:647: ConvergenceWarning: Objective did not converge. You might want to increase the number of iterations, check the scale of the features or consider increasing regularisation. Duality gap: 1.654e+11, tolerance: 1.308e+09\n",
      "  model = cd_fast.enet_coordinate_descent(\n"
     ]
    },
    {
     "name": "stdout",
     "output_type": "stream",
     "text": [
      "[CV 2/5] END ..alpha=0.1, l1_ratio=0.9;, score=-588173063.209 total time=   0.3s\n"
     ]
    },
    {
     "name": "stderr",
     "output_type": "stream",
     "text": [
      "C:\\Users\\nguye\\anaconda3\\lib\\site-packages\\sklearn\\linear_model\\_coordinate_descent.py:647: ConvergenceWarning: Objective did not converge. You might want to increase the number of iterations, check the scale of the features or consider increasing regularisation. Duality gap: 1.324e+11, tolerance: 1.415e+09\n",
      "  model = cd_fast.enet_coordinate_descent(\n"
     ]
    },
    {
     "name": "stdout",
     "output_type": "stream",
     "text": [
      "[CV 3/5] END ..alpha=0.1, l1_ratio=0.9;, score=-382027330.479 total time=   0.2s\n"
     ]
    },
    {
     "name": "stderr",
     "output_type": "stream",
     "text": [
      "C:\\Users\\nguye\\anaconda3\\lib\\site-packages\\sklearn\\linear_model\\_coordinate_descent.py:647: ConvergenceWarning: Objective did not converge. You might want to increase the number of iterations, check the scale of the features or consider increasing regularisation. Duality gap: 1.986e+11, tolerance: 1.438e+09\n",
      "  model = cd_fast.enet_coordinate_descent(\n"
     ]
    },
    {
     "name": "stdout",
     "output_type": "stream",
     "text": [
      "[CV 4/5] END ..alpha=0.1, l1_ratio=0.9;, score=-409631622.271 total time=   0.2s\n"
     ]
    },
    {
     "name": "stderr",
     "output_type": "stream",
     "text": [
      "C:\\Users\\nguye\\anaconda3\\lib\\site-packages\\sklearn\\linear_model\\_coordinate_descent.py:647: ConvergenceWarning: Objective did not converge. You might want to increase the number of iterations, check the scale of the features or consider increasing regularisation. Duality gap: 1.553e+11, tolerance: 1.346e+09\n",
      "  model = cd_fast.enet_coordinate_descent(\n"
     ]
    },
    {
     "name": "stdout",
     "output_type": "stream",
     "text": [
      "[CV 5/5] END ..alpha=0.1, l1_ratio=0.9;, score=-588245107.759 total time=   0.3s\n"
     ]
    },
    {
     "name": "stderr",
     "output_type": "stream",
     "text": [
      "C:\\Users\\nguye\\anaconda3\\lib\\site-packages\\sklearn\\linear_model\\_coordinate_descent.py:647: ConvergenceWarning: Objective did not converge. You might want to increase the number of iterations, check the scale of the features or consider increasing regularisation. Duality gap: 3.235e+11, tolerance: 1.355e+09\n",
      "  model = cd_fast.enet_coordinate_descent(\n"
     ]
    },
    {
     "name": "stdout",
     "output_type": "stream",
     "text": [
      "[CV 1/5] END .alpha=0.1, l1_ratio=0.95;, score=-667134370.499 total time=   0.2s\n"
     ]
    },
    {
     "name": "stderr",
     "output_type": "stream",
     "text": [
      "C:\\Users\\nguye\\anaconda3\\lib\\site-packages\\sklearn\\linear_model\\_coordinate_descent.py:647: ConvergenceWarning: Objective did not converge. You might want to increase the number of iterations, check the scale of the features or consider increasing regularisation. Duality gap: 3.369e+11, tolerance: 1.308e+09\n",
      "  model = cd_fast.enet_coordinate_descent(\n"
     ]
    },
    {
     "name": "stdout",
     "output_type": "stream",
     "text": [
      "[CV 2/5] END .alpha=0.1, l1_ratio=0.95;, score=-589402450.413 total time=   0.2s\n"
     ]
    },
    {
     "name": "stderr",
     "output_type": "stream",
     "text": [
      "C:\\Users\\nguye\\anaconda3\\lib\\site-packages\\sklearn\\linear_model\\_coordinate_descent.py:647: ConvergenceWarning: Objective did not converge. You might want to increase the number of iterations, check the scale of the features or consider increasing regularisation. Duality gap: 3.575e+11, tolerance: 1.415e+09\n",
      "  model = cd_fast.enet_coordinate_descent(\n"
     ]
    },
    {
     "name": "stdout",
     "output_type": "stream",
     "text": [
      "[CV 3/5] END .alpha=0.1, l1_ratio=0.95;, score=-382714331.562 total time=   0.3s\n"
     ]
    },
    {
     "name": "stderr",
     "output_type": "stream",
     "text": [
      "C:\\Users\\nguye\\anaconda3\\lib\\site-packages\\sklearn\\linear_model\\_coordinate_descent.py:647: ConvergenceWarning: Objective did not converge. You might want to increase the number of iterations, check the scale of the features or consider increasing regularisation. Duality gap: 3.887e+11, tolerance: 1.438e+09\n",
      "  model = cd_fast.enet_coordinate_descent(\n"
     ]
    },
    {
     "name": "stdout",
     "output_type": "stream",
     "text": [
      "[CV 4/5] END .alpha=0.1, l1_ratio=0.95;, score=-412419802.014 total time=   0.3s\n"
     ]
    },
    {
     "name": "stderr",
     "output_type": "stream",
     "text": [
      "C:\\Users\\nguye\\anaconda3\\lib\\site-packages\\sklearn\\linear_model\\_coordinate_descent.py:647: ConvergenceWarning: Objective did not converge. You might want to increase the number of iterations, check the scale of the features or consider increasing regularisation. Duality gap: 2.928e+11, tolerance: 1.346e+09\n",
      "  model = cd_fast.enet_coordinate_descent(\n"
     ]
    },
    {
     "name": "stdout",
     "output_type": "stream",
     "text": [
      "[CV 5/5] END .alpha=0.1, l1_ratio=0.95;, score=-589632565.404 total time=   0.3s\n"
     ]
    },
    {
     "name": "stderr",
     "output_type": "stream",
     "text": [
      "C:\\Users\\nguye\\anaconda3\\lib\\site-packages\\sklearn\\linear_model\\_coordinate_descent.py:647: ConvergenceWarning: Objective did not converge. You might want to increase the number of iterations, check the scale of the features or consider increasing regularisation. Duality gap: 3.542e+11, tolerance: 1.355e+09\n",
      "  model = cd_fast.enet_coordinate_descent(\n"
     ]
    },
    {
     "name": "stdout",
     "output_type": "stream",
     "text": [
      "[CV 1/5] END .alpha=0.1, l1_ratio=0.99;, score=-672684413.271 total time=   0.3s\n"
     ]
    },
    {
     "name": "stderr",
     "output_type": "stream",
     "text": [
      "C:\\Users\\nguye\\anaconda3\\lib\\site-packages\\sklearn\\linear_model\\_coordinate_descent.py:647: ConvergenceWarning: Objective did not converge. You might want to increase the number of iterations, check the scale of the features or consider increasing regularisation. Duality gap: 3.635e+11, tolerance: 1.308e+09\n",
      "  model = cd_fast.enet_coordinate_descent(\n"
     ]
    },
    {
     "name": "stdout",
     "output_type": "stream",
     "text": [
      "[CV 2/5] END .alpha=0.1, l1_ratio=0.99;, score=-596301023.471 total time=   0.3s\n"
     ]
    },
    {
     "name": "stderr",
     "output_type": "stream",
     "text": [
      "C:\\Users\\nguye\\anaconda3\\lib\\site-packages\\sklearn\\linear_model\\_coordinate_descent.py:647: ConvergenceWarning: Objective did not converge. You might want to increase the number of iterations, check the scale of the features or consider increasing regularisation. Duality gap: 4.085e+11, tolerance: 1.415e+09\n",
      "  model = cd_fast.enet_coordinate_descent(\n"
     ]
    },
    {
     "name": "stdout",
     "output_type": "stream",
     "text": [
      "[CV 3/5] END .alpha=0.1, l1_ratio=0.99;, score=-382373441.773 total time=   0.3s\n"
     ]
    },
    {
     "name": "stderr",
     "output_type": "stream",
     "text": [
      "C:\\Users\\nguye\\anaconda3\\lib\\site-packages\\sklearn\\linear_model\\_coordinate_descent.py:647: ConvergenceWarning: Objective did not converge. You might want to increase the number of iterations, check the scale of the features or consider increasing regularisation. Duality gap: 4.071e+11, tolerance: 1.438e+09\n",
      "  model = cd_fast.enet_coordinate_descent(\n"
     ]
    },
    {
     "name": "stdout",
     "output_type": "stream",
     "text": [
      "[CV 4/5] END .alpha=0.1, l1_ratio=0.99;, score=-416652556.126 total time=   0.3s\n"
     ]
    },
    {
     "name": "stderr",
     "output_type": "stream",
     "text": [
      "C:\\Users\\nguye\\anaconda3\\lib\\site-packages\\sklearn\\linear_model\\_coordinate_descent.py:647: ConvergenceWarning: Objective did not converge. You might want to increase the number of iterations, check the scale of the features or consider increasing regularisation. Duality gap: 3.553e+11, tolerance: 1.346e+09\n",
      "  model = cd_fast.enet_coordinate_descent(\n"
     ]
    },
    {
     "name": "stdout",
     "output_type": "stream",
     "text": [
      "[CV 5/5] END .alpha=0.1, l1_ratio=0.99;, score=-592174520.557 total time=   0.2s\n"
     ]
    },
    {
     "name": "stderr",
     "output_type": "stream",
     "text": [
      "C:\\Users\\nguye\\anaconda3\\lib\\site-packages\\sklearn\\linear_model\\_coordinate_descent.py:647: ConvergenceWarning: Objective did not converge. You might want to increase the number of iterations, check the scale of the features or consider increasing regularisation. Duality gap: 3.498e+11, tolerance: 1.355e+09\n",
      "  model = cd_fast.enet_coordinate_descent(\n"
     ]
    },
    {
     "name": "stdout",
     "output_type": "stream",
     "text": [
      "[CV 1/5] END ....alpha=0.1, l1_ratio=1;, score=-678276936.855 total time=   0.3s\n"
     ]
    },
    {
     "name": "stderr",
     "output_type": "stream",
     "text": [
      "C:\\Users\\nguye\\anaconda3\\lib\\site-packages\\sklearn\\linear_model\\_coordinate_descent.py:647: ConvergenceWarning: Objective did not converge. You might want to increase the number of iterations, check the scale of the features or consider increasing regularisation. Duality gap: 3.591e+11, tolerance: 1.308e+09\n",
      "  model = cd_fast.enet_coordinate_descent(\n"
     ]
    },
    {
     "name": "stdout",
     "output_type": "stream",
     "text": [
      "[CV 2/5] END ....alpha=0.1, l1_ratio=1;, score=-601743740.080 total time=   0.3s\n"
     ]
    },
    {
     "name": "stderr",
     "output_type": "stream",
     "text": [
      "C:\\Users\\nguye\\anaconda3\\lib\\site-packages\\sklearn\\linear_model\\_coordinate_descent.py:647: ConvergenceWarning: Objective did not converge. You might want to increase the number of iterations, check the scale of the features or consider increasing regularisation. Duality gap: 4.066e+11, tolerance: 1.415e+09\n",
      "  model = cd_fast.enet_coordinate_descent(\n"
     ]
    },
    {
     "name": "stdout",
     "output_type": "stream",
     "text": [
      "[CV 3/5] END ....alpha=0.1, l1_ratio=1;, score=-382804008.085 total time=   0.3s\n"
     ]
    },
    {
     "name": "stderr",
     "output_type": "stream",
     "text": [
      "C:\\Users\\nguye\\anaconda3\\lib\\site-packages\\sklearn\\linear_model\\_coordinate_descent.py:647: ConvergenceWarning: Objective did not converge. You might want to increase the number of iterations, check the scale of the features or consider increasing regularisation. Duality gap: 4.028e+11, tolerance: 1.438e+09\n",
      "  model = cd_fast.enet_coordinate_descent(\n"
     ]
    },
    {
     "name": "stdout",
     "output_type": "stream",
     "text": [
      "[CV 4/5] END ....alpha=0.1, l1_ratio=1;, score=-434123662.696 total time=   0.2s\n"
     ]
    },
    {
     "name": "stderr",
     "output_type": "stream",
     "text": [
      "C:\\Users\\nguye\\anaconda3\\lib\\site-packages\\sklearn\\linear_model\\_coordinate_descent.py:647: ConvergenceWarning: Objective did not converge. You might want to increase the number of iterations, check the scale of the features or consider increasing regularisation. Duality gap: 3.687e+11, tolerance: 1.346e+09\n",
      "  model = cd_fast.enet_coordinate_descent(\n"
     ]
    },
    {
     "name": "stdout",
     "output_type": "stream",
     "text": [
      "[CV 5/5] END ....alpha=0.1, l1_ratio=1;, score=-595851188.625 total time=   0.3s\n",
      "[CV 1/5] END ....alpha=1, l1_ratio=0.1;, score=-891925837.635 total time=   0.0s\n",
      "[CV 2/5] END ....alpha=1, l1_ratio=0.1;, score=-986013988.974 total time=   0.0s\n",
      "[CV 3/5] END ....alpha=1, l1_ratio=0.1;, score=-470121283.569 total time=   0.0s\n",
      "[CV 4/5] END ....alpha=1, l1_ratio=0.1;, score=-523202770.487 total time=   0.0s\n",
      "[CV 5/5] END ....alpha=1, l1_ratio=0.1;, score=-775912759.085 total time=   0.0s\n",
      "[CV 1/5] END ....alpha=1, l1_ratio=0.5;, score=-799661410.028 total time=   0.0s\n",
      "[CV 2/5] END ....alpha=1, l1_ratio=0.5;, score=-829868002.698 total time=   0.0s\n",
      "[CV 3/5] END ....alpha=1, l1_ratio=0.5;, score=-417736934.678 total time=   0.0s\n",
      "[CV 4/5] END ....alpha=1, l1_ratio=0.5;, score=-465862129.053 total time=   0.0s\n",
      "[CV 5/5] END ....alpha=1, l1_ratio=0.5;, score=-683098082.615 total time=   0.0s\n",
      "[CV 1/5] END ....alpha=1, l1_ratio=0.7;, score=-750834927.761 total time=   0.0s\n",
      "[CV 2/5] END ....alpha=1, l1_ratio=0.7;, score=-739367073.791 total time=   0.0s\n",
      "[CV 3/5] END ....alpha=1, l1_ratio=0.7;, score=-396482319.758 total time=   0.0s\n",
      "[CV 4/5] END ....alpha=1, l1_ratio=0.7;, score=-437611979.170 total time=   0.0s\n",
      "[CV 5/5] END ....alpha=1, l1_ratio=0.7;, score=-636360722.537 total time=   0.0s\n",
      "[CV 1/5] END ....alpha=1, l1_ratio=0.9;, score=-698296442.888 total time=   0.0s\n",
      "[CV 2/5] END ....alpha=1, l1_ratio=0.9;, score=-635376319.037 total time=   0.0s\n",
      "[CV 3/5] END ....alpha=1, l1_ratio=0.9;, score=-382442853.422 total time=   0.0s\n",
      "[CV 4/5] END ....alpha=1, l1_ratio=0.9;, score=-411886638.959 total time=   0.1s\n",
      "[CV 5/5] END ....alpha=1, l1_ratio=0.9;, score=-594575671.422 total time=   0.0s\n",
      "[CV 1/5] END ...alpha=1, l1_ratio=0.95;, score=-682110705.948 total time=   0.1s\n",
      "[CV 2/5] END ...alpha=1, l1_ratio=0.95;, score=-606423671.026 total time=   0.0s\n",
      "[CV 3/5] END ...alpha=1, l1_ratio=0.95;, score=-380697563.428 total time=   0.0s\n",
      "[CV 4/5] END ...alpha=1, l1_ratio=0.95;, score=-407007698.948 total time=   0.0s\n",
      "[CV 5/5] END ...alpha=1, l1_ratio=0.95;, score=-587833439.355 total time=   0.0s\n",
      "[CV 1/5] END ...alpha=1, l1_ratio=0.99;, score=-666961789.579 total time=   0.2s\n",
      "[CV 2/5] END ...alpha=1, l1_ratio=0.99;, score=-587901792.652 total time=   0.2s\n",
      "[CV 3/5] END ...alpha=1, l1_ratio=0.99;, score=-381902368.625 total time=   0.2s\n",
      "[CV 4/5] END ...alpha=1, l1_ratio=0.99;, score=-409370809.545 total time=   0.3s\n",
      "[CV 5/5] END ...alpha=1, l1_ratio=0.99;, score=-588045870.455 total time=   0.3s\n"
     ]
    },
    {
     "name": "stderr",
     "output_type": "stream",
     "text": [
      "C:\\Users\\nguye\\anaconda3\\lib\\site-packages\\sklearn\\linear_model\\_coordinate_descent.py:647: ConvergenceWarning: Objective did not converge. You might want to increase the number of iterations, check the scale of the features or consider increasing regularisation. Duality gap: 3.025e+11, tolerance: 1.355e+09\n",
      "  model = cd_fast.enet_coordinate_descent(\n"
     ]
    },
    {
     "name": "stdout",
     "output_type": "stream",
     "text": [
      "[CV 1/5] END ......alpha=1, l1_ratio=1;, score=-676854686.957 total time=   0.3s\n"
     ]
    },
    {
     "name": "stderr",
     "output_type": "stream",
     "text": [
      "C:\\Users\\nguye\\anaconda3\\lib\\site-packages\\sklearn\\linear_model\\_coordinate_descent.py:647: ConvergenceWarning: Objective did not converge. You might want to increase the number of iterations, check the scale of the features or consider increasing regularisation. Duality gap: 3.127e+11, tolerance: 1.308e+09\n",
      "  model = cd_fast.enet_coordinate_descent(\n"
     ]
    },
    {
     "name": "stdout",
     "output_type": "stream",
     "text": [
      "[CV 2/5] END ......alpha=1, l1_ratio=1;, score=-600394378.178 total time=   0.3s\n"
     ]
    },
    {
     "name": "stderr",
     "output_type": "stream",
     "text": [
      "C:\\Users\\nguye\\anaconda3\\lib\\site-packages\\sklearn\\linear_model\\_coordinate_descent.py:647: ConvergenceWarning: Objective did not converge. You might want to increase the number of iterations, check the scale of the features or consider increasing regularisation. Duality gap: 3.475e+11, tolerance: 1.415e+09\n",
      "  model = cd_fast.enet_coordinate_descent(\n"
     ]
    },
    {
     "name": "stdout",
     "output_type": "stream",
     "text": [
      "[CV 3/5] END ......alpha=1, l1_ratio=1;, score=-382175057.158 total time=   0.3s\n"
     ]
    },
    {
     "name": "stderr",
     "output_type": "stream",
     "text": [
      "C:\\Users\\nguye\\anaconda3\\lib\\site-packages\\sklearn\\linear_model\\_coordinate_descent.py:647: ConvergenceWarning: Objective did not converge. You might want to increase the number of iterations, check the scale of the features or consider increasing regularisation. Duality gap: 3.526e+11, tolerance: 1.438e+09\n",
      "  model = cd_fast.enet_coordinate_descent(\n"
     ]
    },
    {
     "name": "stdout",
     "output_type": "stream",
     "text": [
      "[CV 4/5] END ......alpha=1, l1_ratio=1;, score=-430681787.483 total time=   0.3s\n"
     ]
    },
    {
     "name": "stderr",
     "output_type": "stream",
     "text": [
      "C:\\Users\\nguye\\anaconda3\\lib\\site-packages\\sklearn\\linear_model\\_coordinate_descent.py:647: ConvergenceWarning: Objective did not converge. You might want to increase the number of iterations, check the scale of the features or consider increasing regularisation. Duality gap: 2.559e+11, tolerance: 1.346e+09\n",
      "  model = cd_fast.enet_coordinate_descent(\n"
     ]
    },
    {
     "name": "stdout",
     "output_type": "stream",
     "text": [
      "[CV 5/5] END ......alpha=1, l1_ratio=1;, score=-594314103.700 total time=   0.3s\n",
      "[CV 1/5] END ...alpha=5, l1_ratio=0.1;, score=-1559315306.639 total time=   0.0s\n",
      "[CV 2/5] END ...alpha=5, l1_ratio=0.1;, score=-1908631714.072 total time=   0.0s\n",
      "[CV 3/5] END ....alpha=5, l1_ratio=0.1;, score=-976632756.378 total time=   0.0s\n",
      "[CV 4/5] END ....alpha=5, l1_ratio=0.1;, score=-976046835.318 total time=   0.0s\n",
      "[CV 5/5] END ...alpha=5, l1_ratio=0.1;, score=-1476169875.942 total time=   0.0s\n",
      "[CV 1/5] END ...alpha=5, l1_ratio=0.5;, score=-1214943491.480 total time=   0.0s\n",
      "[CV 2/5] END ...alpha=5, l1_ratio=0.5;, score=-1458995631.902 total time=   0.0s\n",
      "[CV 3/5] END ....alpha=5, l1_ratio=0.5;, score=-701621253.273 total time=   0.0s\n",
      "[CV 4/5] END ....alpha=5, l1_ratio=0.5;, score=-737032620.546 total time=   0.0s\n",
      "[CV 5/5] END ...alpha=5, l1_ratio=0.5;, score=-1111373406.636 total time=   0.0s\n",
      "[CV 1/5] END ...alpha=5, l1_ratio=0.7;, score=-1020199318.022 total time=   0.0s\n",
      "[CV 2/5] END ...alpha=5, l1_ratio=0.7;, score=-1183631171.451 total time=   0.0s\n",
      "[CV 3/5] END ....alpha=5, l1_ratio=0.7;, score=-556588382.837 total time=   0.0s\n",
      "[CV 4/5] END ....alpha=5, l1_ratio=0.7;, score=-606579117.229 total time=   0.0s\n",
      "[CV 5/5] END ....alpha=5, l1_ratio=0.7;, score=-907949352.416 total time=   0.0s\n",
      "[CV 1/5] END ....alpha=5, l1_ratio=0.9;, score=-799744359.265 total time=   0.0s\n",
      "[CV 2/5] END ....alpha=5, l1_ratio=0.9;, score=-830333971.255 total time=   0.0s\n",
      "[CV 3/5] END ....alpha=5, l1_ratio=0.9;, score=-417771261.168 total time=   0.0s\n",
      "[CV 4/5] END ....alpha=5, l1_ratio=0.9;, score=-465958901.300 total time=   0.0s\n",
      "[CV 5/5] END ....alpha=5, l1_ratio=0.9;, score=-683012140.973 total time=   0.0s\n",
      "[CV 1/5] END ...alpha=5, l1_ratio=0.95;, score=-738046921.877 total time=   0.0s\n",
      "[CV 2/5] END ...alpha=5, l1_ratio=0.95;, score=-715203225.084 total time=   0.0s\n",
      "[CV 3/5] END ...alpha=5, l1_ratio=0.95;, score=-391940845.869 total time=   0.0s\n",
      "[CV 4/5] END ...alpha=5, l1_ratio=0.95;, score=-430543837.549 total time=   0.0s\n",
      "[CV 5/5] END ...alpha=5, l1_ratio=0.95;, score=-624643218.623 total time=   0.0s\n",
      "[CV 1/5] END ...alpha=5, l1_ratio=0.99;, score=-681530386.190 total time=   0.0s\n",
      "[CV 2/5] END ...alpha=5, l1_ratio=0.99;, score=-606314189.502 total time=   0.0s\n",
      "[CV 3/5] END ...alpha=5, l1_ratio=0.99;, score=-380262886.454 total time=   0.0s\n",
      "[CV 4/5] END ...alpha=5, l1_ratio=0.99;, score=-406250034.870 total time=   0.0s\n",
      "[CV 5/5] END ...alpha=5, l1_ratio=0.99;, score=-586864849.336 total time=   0.0s\n"
     ]
    },
    {
     "name": "stderr",
     "output_type": "stream",
     "text": [
      "C:\\Users\\nguye\\anaconda3\\lib\\site-packages\\sklearn\\linear_model\\_coordinate_descent.py:647: ConvergenceWarning: Objective did not converge. You might want to increase the number of iterations, check the scale of the features or consider increasing regularisation. Duality gap: 1.707e+11, tolerance: 1.355e+09\n",
      "  model = cd_fast.enet_coordinate_descent(\n"
     ]
    },
    {
     "name": "stdout",
     "output_type": "stream",
     "text": [
      "[CV 1/5] END ......alpha=5, l1_ratio=1;, score=-671499785.266 total time=   0.3s\n"
     ]
    },
    {
     "name": "stderr",
     "output_type": "stream",
     "text": [
      "C:\\Users\\nguye\\anaconda3\\lib\\site-packages\\sklearn\\linear_model\\_coordinate_descent.py:647: ConvergenceWarning: Objective did not converge. You might want to increase the number of iterations, check the scale of the features or consider increasing regularisation. Duality gap: 1.869e+11, tolerance: 1.308e+09\n",
      "  model = cd_fast.enet_coordinate_descent(\n"
     ]
    },
    {
     "name": "stdout",
     "output_type": "stream",
     "text": [
      "[CV 2/5] END ......alpha=5, l1_ratio=1;, score=-596643449.914 total time=   0.4s\n"
     ]
    },
    {
     "name": "stderr",
     "output_type": "stream",
     "text": [
      "C:\\Users\\nguye\\anaconda3\\lib\\site-packages\\sklearn\\linear_model\\_coordinate_descent.py:647: ConvergenceWarning: Objective did not converge. You might want to increase the number of iterations, check the scale of the features or consider increasing regularisation. Duality gap: 1.965e+11, tolerance: 1.415e+09\n",
      "  model = cd_fast.enet_coordinate_descent(\n"
     ]
    },
    {
     "name": "stdout",
     "output_type": "stream",
     "text": [
      "[CV 3/5] END ......alpha=5, l1_ratio=1;, score=-380462024.044 total time=   0.3s\n"
     ]
    },
    {
     "name": "stderr",
     "output_type": "stream",
     "text": [
      "C:\\Users\\nguye\\anaconda3\\lib\\site-packages\\sklearn\\linear_model\\_coordinate_descent.py:647: ConvergenceWarning: Objective did not converge. You might want to increase the number of iterations, check the scale of the features or consider increasing regularisation. Duality gap: 2.128e+11, tolerance: 1.438e+09\n",
      "  model = cd_fast.enet_coordinate_descent(\n"
     ]
    },
    {
     "name": "stdout",
     "output_type": "stream",
     "text": [
      "[CV 4/5] END ......alpha=5, l1_ratio=1;, score=-419173375.011 total time=   0.3s\n"
     ]
    },
    {
     "name": "stderr",
     "output_type": "stream",
     "text": [
      "C:\\Users\\nguye\\anaconda3\\lib\\site-packages\\sklearn\\linear_model\\_coordinate_descent.py:647: ConvergenceWarning: Objective did not converge. You might want to increase the number of iterations, check the scale of the features or consider increasing regularisation. Duality gap: 4.849e+09, tolerance: 1.346e+09\n",
      "  model = cd_fast.enet_coordinate_descent(\n"
     ]
    },
    {
     "name": "stdout",
     "output_type": "stream",
     "text": [
      "[CV 5/5] END ......alpha=5, l1_ratio=1;, score=-591375092.698 total time=   0.3s\n",
      "[CV 1/5] END ..alpha=10, l1_ratio=0.1;, score=-2196048899.100 total time=   0.0s\n",
      "[CV 2/5] END ..alpha=10, l1_ratio=0.1;, score=-2680776199.560 total time=   0.0s\n",
      "[CV 3/5] END ..alpha=10, l1_ratio=0.1;, score=-1513349476.504 total time=   0.0s\n",
      "[CV 4/5] END ..alpha=10, l1_ratio=0.1;, score=-1440616724.652 total time=   0.0s\n",
      "[CV 5/5] END ..alpha=10, l1_ratio=0.1;, score=-2158586912.699 total time=   0.0s\n",
      "[CV 1/5] END ..alpha=10, l1_ratio=0.5;, score=-1638793902.361 total time=   0.0s\n",
      "[CV 2/5] END ..alpha=10, l1_ratio=0.5;, score=-2008322442.967 total time=   0.0s\n",
      "[CV 3/5] END ..alpha=10, l1_ratio=0.5;, score=-1042128562.302 total time=   0.0s\n",
      "[CV 4/5] END ..alpha=10, l1_ratio=0.5;, score=-1032571551.207 total time=   0.0s\n",
      "[CV 5/5] END ..alpha=10, l1_ratio=0.5;, score=-1560972576.566 total time=   0.0s\n",
      "[CV 1/5] END ..alpha=10, l1_ratio=0.7;, score=-1306246680.739 total time=   0.0s\n",
      "[CV 2/5] END ..alpha=10, l1_ratio=0.7;, score=-1581828648.340 total time=   0.0s\n",
      "[CV 3/5] END ...alpha=10, l1_ratio=0.7;, score=-772865822.856 total time=   0.0s\n",
      "[CV 4/5] END ...alpha=10, l1_ratio=0.7;, score=-799474518.689 total time=   0.0s\n",
      "[CV 5/5] END ..alpha=10, l1_ratio=0.7;, score=-1207512154.556 total time=   0.0s\n",
      "[CV 1/5] END ...alpha=10, l1_ratio=0.9;, score=-914376566.508 total time=   0.0s\n",
      "[CV 2/5] END ..alpha=10, l1_ratio=0.9;, score=-1022494115.292 total time=   0.0s\n",
      "[CV 3/5] END ...alpha=10, l1_ratio=0.9;, score=-484541086.541 total time=   0.0s\n",
      "[CV 4/5] END ...alpha=10, l1_ratio=0.9;, score=-537650349.410 total time=   0.0s\n",
      "[CV 5/5] END ...alpha=10, l1_ratio=0.9;, score=-798685720.117 total time=   0.0s\n",
      "[CV 1/5] END ..alpha=10, l1_ratio=0.95;, score=-799830330.401 total time=   0.0s\n",
      "[CV 2/5] END ..alpha=10, l1_ratio=0.95;, score=-830888663.754 total time=   0.0s\n",
      "[CV 3/5] END ..alpha=10, l1_ratio=0.95;, score=-417833776.107 total time=   0.0s\n",
      "[CV 4/5] END ..alpha=10, l1_ratio=0.95;, score=-466096287.695 total time=   0.0s\n",
      "[CV 5/5] END ..alpha=10, l1_ratio=0.95;, score=-682904122.695 total time=   0.0s\n",
      "[CV 1/5] END ..alpha=10, l1_ratio=0.99;, score=-697428030.221 total time=   0.0s\n",
      "[CV 2/5] END ..alpha=10, l1_ratio=0.99;, score=-635662567.218 total time=   0.0s\n",
      "[CV 3/5] END ..alpha=10, l1_ratio=0.99;, score=-381745665.703 total time=   0.0s\n",
      "[CV 4/5] END ..alpha=10, l1_ratio=0.99;, score=-410707253.859 total time=   0.0s\n",
      "[CV 5/5] END ..alpha=10, l1_ratio=0.99;, score=-593171026.215 total time=   0.0s\n"
     ]
    },
    {
     "name": "stderr",
     "output_type": "stream",
     "text": [
      "C:\\Users\\nguye\\anaconda3\\lib\\site-packages\\sklearn\\linear_model\\_coordinate_descent.py:647: ConvergenceWarning: Objective did not converge. You might want to increase the number of iterations, check the scale of the features or consider increasing regularisation. Duality gap: 1.313e+10, tolerance: 1.355e+09\n",
      "  model = cd_fast.enet_coordinate_descent(\n"
     ]
    },
    {
     "name": "stdout",
     "output_type": "stream",
     "text": [
      "[CV 1/5] END .....alpha=10, l1_ratio=1;, score=-667234234.736 total time=   0.3s\n"
     ]
    },
    {
     "name": "stderr",
     "output_type": "stream",
     "text": [
      "C:\\Users\\nguye\\anaconda3\\lib\\site-packages\\sklearn\\linear_model\\_coordinate_descent.py:647: ConvergenceWarning: Objective did not converge. You might want to increase the number of iterations, check the scale of the features or consider increasing regularisation. Duality gap: 4.414e+09, tolerance: 1.308e+09\n",
      "  model = cd_fast.enet_coordinate_descent(\n"
     ]
    },
    {
     "name": "stdout",
     "output_type": "stream",
     "text": [
      "[CV 2/5] END .....alpha=10, l1_ratio=1;, score=-593749906.707 total time=   0.3s\n"
     ]
    },
    {
     "name": "stderr",
     "output_type": "stream",
     "text": [
      "C:\\Users\\nguye\\anaconda3\\lib\\site-packages\\sklearn\\linear_model\\_coordinate_descent.py:647: ConvergenceWarning: Objective did not converge. You might want to increase the number of iterations, check the scale of the features or consider increasing regularisation. Duality gap: 3.628e+10, tolerance: 1.415e+09\n",
      "  model = cd_fast.enet_coordinate_descent(\n"
     ]
    },
    {
     "name": "stdout",
     "output_type": "stream",
     "text": [
      "[CV 3/5] END .....alpha=10, l1_ratio=1;, score=-380931280.630 total time=   0.3s\n"
     ]
    },
    {
     "name": "stderr",
     "output_type": "stream",
     "text": [
      "C:\\Users\\nguye\\anaconda3\\lib\\site-packages\\sklearn\\linear_model\\_coordinate_descent.py:647: ConvergenceWarning: Objective did not converge. You might want to increase the number of iterations, check the scale of the features or consider increasing regularisation. Duality gap: 3.970e+09, tolerance: 1.438e+09\n",
      "  model = cd_fast.enet_coordinate_descent(\n"
     ]
    },
    {
     "name": "stdout",
     "output_type": "stream",
     "text": [
      "[CV 4/5] END .....alpha=10, l1_ratio=1;, score=-412753496.652 total time=   0.3s\n",
      "[CV 5/5] END .....alpha=10, l1_ratio=1;, score=-590009544.642 total time=   0.3s\n",
      "[CV 1/5] END ..alpha=50, l1_ratio=0.1;, score=-4521898479.255 total time=   0.0s\n",
      "[CV 2/5] END ..alpha=50, l1_ratio=0.1;, score=-5274541793.019 total time=   0.0s\n",
      "[CV 3/5] END ..alpha=50, l1_ratio=0.1;, score=-3582000888.003 total time=   0.0s\n",
      "[CV 4/5] END ..alpha=50, l1_ratio=0.1;, score=-3295249542.324 total time=   0.0s\n",
      "[CV 5/5] END ..alpha=50, l1_ratio=0.1;, score=-4632303643.768 total time=   0.0s\n",
      "[CV 1/5] END ..alpha=50, l1_ratio=0.5;, score=-3617005332.328 total time=   0.0s\n",
      "[CV 2/5] END ..alpha=50, l1_ratio=0.5;, score=-4289261453.036 total time=   0.0s\n",
      "[CV 3/5] END ..alpha=50, l1_ratio=0.5;, score=-2765078056.992 total time=   0.0s\n",
      "[CV 4/5] END ..alpha=50, l1_ratio=0.5;, score=-2551358173.884 total time=   0.0s\n",
      "[CV 5/5] END ..alpha=50, l1_ratio=0.5;, score=-3676952088.835 total time=   0.0s\n",
      "[CV 1/5] END ..alpha=50, l1_ratio=0.7;, score=-2850466038.143 total time=   0.0s\n",
      "[CV 2/5] END ..alpha=50, l1_ratio=0.7;, score=-3434632498.355 total time=   0.0s\n",
      "[CV 3/5] END ..alpha=50, l1_ratio=0.7;, score=-2083659764.974 total time=   0.0s\n",
      "[CV 4/5] END ..alpha=50, l1_ratio=0.7;, score=-1941614474.073 total time=   0.0s\n",
      "[CV 5/5] END ..alpha=50, l1_ratio=0.7;, score=-2860333230.980 total time=   0.0s\n",
      "[CV 1/5] END ..alpha=50, l1_ratio=0.9;, score=-1642302607.232 total time=   0.0s\n",
      "[CV 2/5] END ..alpha=50, l1_ratio=0.9;, score=-2013307532.098 total time=   0.0s\n",
      "[CV 3/5] END ..alpha=50, l1_ratio=0.9;, score=-1045299579.269 total time=   0.0s\n",
      "[CV 4/5] END ..alpha=50, l1_ratio=0.9;, score=-1035288569.977 total time=   0.0s\n",
      "[CV 5/5] END ..alpha=50, l1_ratio=0.9;, score=-1564529717.784 total time=   0.0s\n",
      "[CV 1/5] END .alpha=50, l1_ratio=0.95;, score=-1217909444.110 total time=   0.0s\n",
      "[CV 2/5] END .alpha=50, l1_ratio=0.95;, score=-1464323671.505 total time=   0.0s\n",
      "[CV 3/5] END ..alpha=50, l1_ratio=0.95;, score=-704560559.522 total time=   0.0s\n",
      "[CV 4/5] END ..alpha=50, l1_ratio=0.95;, score=-739564465.026 total time=   0.0s\n",
      "[CV 5/5] END .alpha=50, l1_ratio=0.95;, score=-1114203690.360 total time=   0.0s\n",
      "[CV 1/5] END ..alpha=50, l1_ratio=0.99;, score=-801022072.067 total time=   0.0s\n",
      "[CV 2/5] END ..alpha=50, l1_ratio=0.99;, score=-835789477.154 total time=   0.0s\n",
      "[CV 3/5] END ..alpha=50, l1_ratio=0.99;, score=-418425362.959 total time=   0.0s\n",
      "[CV 4/5] END ..alpha=50, l1_ratio=0.99;, score=-467159385.217 total time=   0.0s\n",
      "[CV 5/5] END ..alpha=50, l1_ratio=0.99;, score=-682415912.823 total time=   0.0s\n",
      "[CV 1/5] END .....alpha=50, l1_ratio=1;, score=-653434547.087 total time=   0.2s\n",
      "[CV 2/5] END .....alpha=50, l1_ratio=1;, score=-576699878.442 total time=   0.2s\n",
      "[CV 3/5] END .....alpha=50, l1_ratio=1;, score=-380674994.673 total time=   0.3s\n",
      "[CV 4/5] END .....alpha=50, l1_ratio=1;, score=-404728697.545 total time=   0.2s\n",
      "[CV 5/5] END .....alpha=50, l1_ratio=1;, score=-580600135.306 total time=   0.3s\n",
      "[CV 1/5] END .alpha=100, l1_ratio=0.1;, score=-5427362304.829 total time=   0.0s\n",
      "[CV 2/5] END .alpha=100, l1_ratio=0.1;, score=-6244042656.614 total time=   0.0s\n",
      "[CV 3/5] END .alpha=100, l1_ratio=0.1;, score=-4409434046.119 total time=   0.0s\n",
      "[CV 4/5] END .alpha=100, l1_ratio=0.1;, score=-4059743747.287 total time=   0.0s\n",
      "[CV 5/5] END .alpha=100, l1_ratio=0.1;, score=-5579981232.411 total time=   0.0s\n",
      "[CV 1/5] END .alpha=100, l1_ratio=0.5;, score=-4678476122.857 total time=   0.0s\n",
      "[CV 2/5] END .alpha=100, l1_ratio=0.5;, score=-5443282850.397 total time=   0.0s\n",
      "[CV 3/5] END .alpha=100, l1_ratio=0.5;, score=-3724349802.277 total time=   0.0s\n",
      "[CV 4/5] END .alpha=100, l1_ratio=0.5;, score=-3426007722.416 total time=   0.0s\n",
      "[CV 5/5] END .alpha=100, l1_ratio=0.5;, score=-4796635758.623 total time=   0.0s\n",
      "[CV 1/5] END .alpha=100, l1_ratio=0.7;, score=-3906657966.032 total time=   0.0s\n",
      "[CV 2/5] END .alpha=100, l1_ratio=0.7;, score=-4607061120.241 total time=   0.0s\n",
      "[CV 3/5] END .alpha=100, l1_ratio=0.7;, score=-3025207637.601 total time=   0.0s\n",
      "[CV 4/5] END .alpha=100, l1_ratio=0.7;, score=-2786780481.420 total time=   0.0s\n",
      "[CV 5/5] END .alpha=100, l1_ratio=0.7;, score=-3983546005.675 total time=   0.0s\n",
      "[CV 1/5] END .alpha=100, l1_ratio=0.9;, score=-2326869488.633 total time=   0.0s\n",
      "[CV 2/5] END .alpha=100, l1_ratio=0.9;, score=-2834485186.485 total time=   0.0s\n",
      "[CV 3/5] END .alpha=100, l1_ratio=0.9;, score=-1626268208.870 total time=   0.0s\n",
      "[CV 4/5] END .alpha=100, l1_ratio=0.9;, score=-1538861386.094 total time=   0.0s\n",
      "[CV 5/5] END .alpha=100, l1_ratio=0.9;, score=-2298700336.368 total time=   0.0s\n",
      "[CV 1/5] END alpha=100, l1_ratio=0.95;, score=-1646693860.651 total time=   0.0s\n",
      "[CV 2/5] END alpha=100, l1_ratio=0.95;, score=-2019573091.959 total time=   0.0s\n",
      "[CV 3/5] END alpha=100, l1_ratio=0.95;, score=-1049230906.918 total time=   0.0s\n",
      "[CV 4/5] END alpha=100, l1_ratio=0.95;, score=-1038701810.829 total time=   0.0s\n",
      "[CV 5/5] END alpha=100, l1_ratio=0.95;, score=-1569010531.910 total time=   0.0s\n",
      "[CV 1/5] END .alpha=100, l1_ratio=0.99;, score=-918379807.607 total time=   0.0s\n",
      "[CV 2/5] END alpha=100, l1_ratio=0.99;, score=-1033918308.053 total time=   0.0s\n",
      "[CV 3/5] END .alpha=100, l1_ratio=0.99;, score=-488586335.565 total time=   0.0s\n",
      "[CV 4/5] END .alpha=100, l1_ratio=0.99;, score=-540992542.963 total time=   0.0s\n",
      "[CV 5/5] END .alpha=100, l1_ratio=0.99;, score=-801073268.354 total time=   0.0s\n",
      "[CV 1/5] END ....alpha=100, l1_ratio=1;, score=-652752183.881 total time=   0.1s\n",
      "[CV 2/5] END ....alpha=100, l1_ratio=1;, score=-577442437.097 total time=   0.1s\n",
      "[CV 3/5] END ....alpha=100, l1_ratio=1;, score=-376240086.246 total time=   0.1s\n",
      "[CV 4/5] END ....alpha=100, l1_ratio=1;, score=-395064615.899 total time=   0.1s\n",
      "[CV 5/5] END ....alpha=100, l1_ratio=1;, score=-572465291.634 total time=   0.1s\n"
     ]
    },
    {
     "data": {
      "text/plain": [
       "GridSearchCV(cv=5, estimator=ElasticNet(),\n",
       "             param_grid={'alpha': [0.1, 1, 5, 10, 50, 100],\n",
       "                         'l1_ratio': [0.1, 0.5, 0.7, 0.9, 0.95, 0.99, 1]},\n",
       "             scoring='neg_mean_squared_error', verbose=3)"
      ]
     },
     "execution_count": 16,
     "metadata": {},
     "output_type": "execute_result"
    }
   ],
   "source": [
    "grid.fit(X_train, y_train)"
   ]
  },
  {
   "cell_type": "markdown",
   "metadata": {},
   "source": [
    "**TASK: Display the best combination of parameters for your model**"
   ]
  },
  {
   "cell_type": "code",
   "execution_count": 17,
   "metadata": {},
   "outputs": [
    {
     "data": {
      "text/plain": [
       "ElasticNet(alpha=100, l1_ratio=1)"
      ]
     },
     "execution_count": 17,
     "metadata": {},
     "output_type": "execute_result"
    }
   ],
   "source": [
    "grid.best_estimator_"
   ]
  },
  {
   "cell_type": "markdown",
   "metadata": {},
   "source": [
    "**TASK: Evaluate your model's performance on the unseen 10% scaled test set. In the solutions notebook we achieved an MAE of $\\$$14195 and a RMSE of $\\$$20558**"
   ]
  },
  {
   "cell_type": "code",
   "execution_count": 18,
   "metadata": {},
   "outputs": [],
   "source": [
    "# YOUR CODE HERE\n",
    "y_pred = grid.predict(X_test)"
   ]
  },
  {
   "cell_type": "code",
   "execution_count": 19,
   "metadata": {},
   "outputs": [],
   "source": [
    "from sklearn.metrics import mean_absolute_error,mean_squared_error"
   ]
  },
  {
   "cell_type": "code",
   "execution_count": 20,
   "metadata": {},
   "outputs": [
    {
     "data": {
      "text/plain": [
       "14195.354900561473"
      ]
     },
     "execution_count": 20,
     "metadata": {},
     "output_type": "execute_result"
    }
   ],
   "source": [
    "mean_absolute_error(y_test,y_pred)"
   ]
  },
  {
   "cell_type": "code",
   "execution_count": 21,
   "metadata": {},
   "outputs": [
    {
     "data": {
      "text/plain": [
       "20558.50856689415"
      ]
     },
     "execution_count": 21,
     "metadata": {},
     "output_type": "execute_result"
    }
   ],
   "source": [
    "np.sqrt(mean_squared_error(y_test,y_pred))"
   ]
  },
  {
   "cell_type": "code",
   "execution_count": 22,
   "metadata": {},
   "outputs": [
    {
     "data": {
      "text/plain": [
       "180815.53743589742"
      ]
     },
     "execution_count": 22,
     "metadata": {},
     "output_type": "execute_result"
    }
   ],
   "source": [
    "np.mean(df['SalePrice'])"
   ]
  },
  {
   "cell_type": "markdown",
   "metadata": {},
   "source": [
    "## Great work!\n",
    "\n",
    "----"
   ]
  }
 ],
 "metadata": {
  "kernelspec": {
   "display_name": "Python 3 (ipykernel)",
   "language": "python",
   "name": "python3"
  },
  "language_info": {
   "codemirror_mode": {
    "name": "ipython",
    "version": 3
   },
   "file_extension": ".py",
   "mimetype": "text/x-python",
   "name": "python",
   "nbconvert_exporter": "python",
   "pygments_lexer": "ipython3",
   "version": "3.9.12"
  }
 },
 "nbformat": 4,
 "nbformat_minor": 2
}
